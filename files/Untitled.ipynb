{
 "cells": [
  {
   "cell_type": "code",
   "execution_count": 1,
   "metadata": {},
   "outputs": [],
   "source": [
    "import pandas as pd"
   ]
  },
  {
   "cell_type": "code",
   "execution_count": 2,
   "metadata": {},
   "outputs": [],
   "source": [
    "df = pd.read_csv('StreamingProcess.csv', names=['text', 'emogi'])"
   ]
  },
  {
   "cell_type": "code",
   "execution_count": 11,
   "metadata": {},
   "outputs": [
    {
     "data": {
      "text/plain": [
       "('  Watch | India has suspended the use of Chinese testing kits\\r\\n\\r\\nMore inside!     ',\n",
       " \"('neg', 1.0)\")"
      ]
     },
     "execution_count": 11,
     "metadata": {},
     "output_type": "execute_result"
    }
   ],
   "source": [
    "df.loc[8]['text'], df.loc[8]['emogi']"
   ]
  },
  {
   "cell_type": "code",
   "execution_count": 12,
   "metadata": {},
   "outputs": [
    {
     "data": {
      "text/html": [
       "<div>\n",
       "<style scoped>\n",
       "    .dataframe tbody tr th:only-of-type {\n",
       "        vertical-align: middle;\n",
       "    }\n",
       "\n",
       "    .dataframe tbody tr th {\n",
       "        vertical-align: top;\n",
       "    }\n",
       "\n",
       "    .dataframe thead th {\n",
       "        text-align: right;\n",
       "    }\n",
       "</style>\n",
       "<table border=\"1\" class=\"dataframe\">\n",
       "  <thead>\n",
       "    <tr style=\"text-align: right;\">\n",
       "      <th></th>\n",
       "      <th>text</th>\n",
       "      <th>emogi</th>\n",
       "    </tr>\n",
       "  </thead>\n",
       "  <tbody>\n",
       "    <tr>\n",
       "      <td>26</td>\n",
       "      <td>We want to give ONE of you $25 for ANYTHING!...</td>\n",
       "      <td>Counter({'💸': 1, '💖': 1, '💞': 1})</td>\n",
       "    </tr>\n",
       "    <tr>\n",
       "      <td>54</td>\n",
       "      <td>Now this would make my day</td>\n",
       "      <td>Counter({'👇': 3})</td>\n",
       "    </tr>\n",
       "    <tr>\n",
       "      <td>57</td>\n",
       "      <td>man John McDaniel  who railed on social m...</td>\n",
       "      <td>Counter({'🚨': 1})</td>\n",
       "    </tr>\n",
       "    <tr>\n",
       "      <td>63</td>\n",
       "      <td>Must Watch. \\r\\n\\r\\n Reach out and touch, some...</td>\n",
       "      <td>Counter({'🎵': 2, '🎶': 2, '🤤': 1, '🤪': 1})</td>\n",
       "    </tr>\n",
       "    <tr>\n",
       "      <td>70</td>\n",
       "      <td>The deadly   causes asymptomatic infectio...</td>\n",
       "      <td>Counter({'⚠': 1})</td>\n",
       "    </tr>\n",
       "    <tr>\n",
       "      <td>...</td>\n",
       "      <td>...</td>\n",
       "      <td>...</td>\n",
       "    </tr>\n",
       "    <tr>\n",
       "      <td>1556</td>\n",
       "      <td>If the Corona Virus looked like this, would yo...</td>\n",
       "      <td>Counter({'👀': 1, '🦠': 1})</td>\n",
       "    </tr>\n",
       "    <tr>\n",
       "      <td>1558</td>\n",
       "      <td>Happy For U Sir</td>\n",
       "      <td>Counter({'🥰': 11, '❤': 1, '🙌': 1})</td>\n",
       "    </tr>\n",
       "    <tr>\n",
       "      <td>1560</td>\n",
       "      <td>experts say we need 5 million   tests per...</td>\n",
       "      <td>Counter({'⚠': 1})</td>\n",
       "    </tr>\n",
       "    <tr>\n",
       "      <td>1563</td>\n",
       "      <td>A kangaroo   has been captured on CCTV bounc...</td>\n",
       "      <td>Counter({'🦘': 1})</td>\n",
       "    </tr>\n",
       "    <tr>\n",
       "      <td>1579</td>\n",
       "      <td>Andrea, its called a DOG WHISTLE to Trumps  ...</td>\n",
       "      <td>Counter({'🤬': 1})</td>\n",
       "    </tr>\n",
       "  </tbody>\n",
       "</table>\n",
       "<p>163 rows × 2 columns</p>\n",
       "</div>"
      ],
      "text/plain": [
       "                                                   text  \\\n",
       "26      We want to give ONE of you $25 for ANYTHING!...   \n",
       "54                  Now this would make my day            \n",
       "57         man John McDaniel  who railed on social m...   \n",
       "63    Must Watch. \\r\\n\\r\\n Reach out and touch, some...   \n",
       "70         The deadly   causes asymptomatic infectio...   \n",
       "...                                                 ...   \n",
       "1556  If the Corona Virus looked like this, would yo...   \n",
       "1558                    Happy For U Sir                   \n",
       "1560       experts say we need 5 million   tests per...   \n",
       "1563    A kangaroo   has been captured on CCTV bounc...   \n",
       "1579    Andrea, its called a DOG WHISTLE to Trumps  ...   \n",
       "\n",
       "                                          emogi  \n",
       "26            Counter({'💸': 1, '💖': 1, '💞': 1})  \n",
       "54                            Counter({'👇': 3})  \n",
       "57                            Counter({'🚨': 1})  \n",
       "63    Counter({'🎵': 2, '🎶': 2, '🤤': 1, '🤪': 1})  \n",
       "70                            Counter({'⚠': 1})  \n",
       "...                                         ...  \n",
       "1556                  Counter({'👀': 1, '🦠': 1})  \n",
       "1558         Counter({'🥰': 11, '❤': 1, '🙌': 1})  \n",
       "1560                          Counter({'⚠': 1})  \n",
       "1563                          Counter({'🦘': 1})  \n",
       "1579                          Counter({'🤬': 1})  \n",
       "\n",
       "[163 rows x 2 columns]"
      ]
     },
     "execution_count": 12,
     "metadata": {},
     "output_type": "execute_result"
    }
   ],
   "source": [
    "df.query('emogi!=\"Counter()\"')"
   ]
  },
  {
   "cell_type": "code",
   "execution_count": null,
   "metadata": {},
   "outputs": [],
   "source": []
  },
  {
   "cell_type": "code",
   "execution_count": null,
   "metadata": {},
   "outputs": [],
   "source": []
  }
 ],
 "metadata": {
  "kernelspec": {
   "display_name": "Python 3",
   "language": "python",
   "name": "python3"
  },
  "language_info": {
   "codemirror_mode": {
    "name": "ipython",
    "version": 3
   },
   "file_extension": ".py",
   "mimetype": "text/x-python",
   "name": "python",
   "nbconvert_exporter": "python",
   "pygments_lexer": "ipython3",
   "version": "3.7.4"
  }
 },
 "nbformat": 4,
 "nbformat_minor": 2
}
